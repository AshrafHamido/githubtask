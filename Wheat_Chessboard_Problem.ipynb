{
  "nbformat": 4,
  "nbformat_minor": 0,
  "metadata": {
    "colab": {
      "provenance": []
    },
    "kernelspec": {
      "name": "python3",
      "display_name": "Python 3"
    },
    "language_info": {
      "name": "python"
    }
  },
  "cells": [
    {
      "cell_type": "markdown",
      "source": [
        "**[Problem 1]: The amount of wheat on a 2x2 chessboard**"
      ],
      "metadata": {
        "id": "RCNo2vc_auvb"
      }
    },
    {
      "cell_type": "code",
      "execution_count": null,
      "metadata": {
        "colab": {
          "base_uri": "https://localhost:8080/"
        },
        "id": "hsPvooqiamJR",
        "outputId": "1338893f-686a-4724-93b3-3a0b5c66715b"
      },
      "outputs": [
        {
          "output_type": "stream",
          "name": "stdout",
          "text": [
            "2x2 Chessboard with Wheat Grains:\n",
            " [[1 2]\n",
            " [4 8]]\n",
            "Updated 2x2 Chessboard with Specific Wheat Placement:\n",
            " [[1 2]\n",
            " [4 8]]\n"
          ]
        }
      ],
      "source": [
        "import numpy as np\n",
        "# Function to create a 2x2 chessboard and calculate wheat distribution\n",
        "def calculate_chessboard_wheat():\n",
        "    n_squares = 4\n",
        "    small_board_list = [1]\n",
        "\n",
        "    for _ in range(n_squares - 1):\n",
        "        small_board_list.append(2 * small_board_list[-1])\n",
        "\n",
        "    # Transform the list into a 2x2 ndarray\n",
        "    chessboard = np.array(small_board_list).reshape(2, 2)\n",
        "    print(\"2x2 Chessboard with Wheat Grains:\\n\", chessboard)\n",
        "\n",
        "    return chessboard\n",
        "\n",
        "# Example calculations\n",
        "if __name__ == \"__main__\":\n",
        "   # Example 3: Chessboard Wheat Problem\n",
        "    chessboard = calculate_chessboard_wheat()\n",
        "\n",
        "    # Representing 2x2 chessboard with specific placement of grains\n",
        "    chessboard = np.array([1, 2, 4, 8]).reshape(2, 2)\n",
        "    print(\"Updated 2x2 Chessboard with Specific Wheat Placement:\\n\", chessboard)"
      ]
    },
    {
      "cell_type": "markdown",
      "source": [
        "**[Problem 2]: Expansion to n×m squares**"
      ],
      "metadata": {
        "id": "7SjBrl1Pd-Ff"
      }
    },
    {
      "cell_type": "code",
      "source": [
        "import numpy as np\n",
        "\n",
        "def chessboard_grains(n, m):\n",
        "    total_squares = n * m\n",
        "    grains_list = [1]  # Start with 1 grain on the first square\n",
        "    for _ in range(total_squares - 1):\n",
        "        grains_list.append(2 * grains_list[-1])  # Double the grains for the next square\n",
        "    return np.array(grains_list).reshape((n, m))\n",
        "\n",
        "# Use the function for an 8x8 chessboard\n",
        "chessboard = chessboard_grains(8, 8)\n",
        "chessboard, chessboard.sum()  # Return the chessboard and the total number of grains\n"
      ],
      "metadata": {
        "colab": {
          "base_uri": "https://localhost:8080/"
        },
        "id": "Mt66fCpWeGFE",
        "outputId": "13703616-1a9f-4ba4-a24d-4e7f3cffc897"
      },
      "execution_count": null,
      "outputs": [
        {
          "output_type": "execute_result",
          "data": {
            "text/plain": [
              "(array([[1.00000000e+00, 2.00000000e+00, 4.00000000e+00, 8.00000000e+00,\n",
              "         1.60000000e+01, 3.20000000e+01, 6.40000000e+01, 1.28000000e+02],\n",
              "        [2.56000000e+02, 5.12000000e+02, 1.02400000e+03, 2.04800000e+03,\n",
              "         4.09600000e+03, 8.19200000e+03, 1.63840000e+04, 3.27680000e+04],\n",
              "        [6.55360000e+04, 1.31072000e+05, 2.62144000e+05, 5.24288000e+05,\n",
              "         1.04857600e+06, 2.09715200e+06, 4.19430400e+06, 8.38860800e+06],\n",
              "        [1.67772160e+07, 3.35544320e+07, 6.71088640e+07, 1.34217728e+08,\n",
              "         2.68435456e+08, 5.36870912e+08, 1.07374182e+09, 2.14748365e+09],\n",
              "        [4.29496730e+09, 8.58993459e+09, 1.71798692e+10, 3.43597384e+10,\n",
              "         6.87194767e+10, 1.37438953e+11, 2.74877907e+11, 5.49755814e+11],\n",
              "        [1.09951163e+12, 2.19902326e+12, 4.39804651e+12, 8.79609302e+12,\n",
              "         1.75921860e+13, 3.51843721e+13, 7.03687442e+13, 1.40737488e+14],\n",
              "        [2.81474977e+14, 5.62949953e+14, 1.12589991e+15, 2.25179981e+15,\n",
              "         4.50359963e+15, 9.00719925e+15, 1.80143985e+16, 3.60287970e+16],\n",
              "        [7.20575940e+16, 1.44115188e+17, 2.88230376e+17, 5.76460752e+17,\n",
              "         1.15292150e+18, 2.30584301e+18, 4.61168602e+18, 9.22337204e+18]]),\n",
              " 1.8446744073709552e+19)"
            ]
          },
          "metadata": {},
          "execution_count": 5
        }
      ]
    },
    {
      "cell_type": "markdown",
      "source": [
        "**[Problem 3]: Total number of wheat**"
      ],
      "metadata": {
        "id": "kxvEzl-xf8Jh"
      }
    },
    {
      "cell_type": "code",
      "source": [
        "import matplotlib.pyplot as plt\n",
        "\n",
        "# Function to calculate the total number of grains and the average per column\n",
        "def chessboard_grains(n, m):\n",
        "    \"\"\"Returns an ndarray containing the number of grains on an nxm chessboard\"\"\"\n",
        "    total_squares = n * m\n",
        "    grains_list = [1]  # Start with 1 grain on the first square\n",
        "    for _ in range(total_squares - 1):\n",
        "        grains_list.append(2 * grains_list[-1])  # Double the grains for the next square\n",
        "    return np.array(grains_list).reshape((n, m))\n",
        "\n",
        "# Calculate the grains on an 8x8 chessboard\n",
        "chessboard = chessboard_grains(8, 8)\n",
        "\n",
        "# Total number of grains\n",
        "total_grains = chessboard.sum()\n",
        "\n",
        "# Calculate the average for each column\n",
        "column_averages = chessboard.mean(axis=0)\n",
        "\n",
        "# Visualize the averages using a bar graph\n",
        "plt.bar(range(1, 9), column_averages)\n",
        "plt.xlabel('Column Number')\n",
        "plt.ylabel('Average Number of Grains')\n",
        "plt.title('Average Number of Grains per Column on an 8x8 Chessboard')\n",
        "plt.show()\n",
        "\n",
        "total_grains, column_averages"
      ],
      "metadata": {
        "colab": {
          "base_uri": "https://localhost:8080/",
          "height": 542
        },
        "id": "60K4fb6TgDFk",
        "outputId": "fcc045f4-cdfc-447b-f4aa-e6e8fb362807"
      },
      "execution_count": null,
      "outputs": [
        {
          "output_type": "display_data",
          "data": {
            "text/plain": [
              "<Figure size 640x480 with 1 Axes>"
            ],
            "image/png": "[encoded data removed]"
          },
          "metadata": {}
        },
        {
          "output_type": "execute_result",
          "data": {
            "text/plain": [
              "(1.8446744073709552e+19,\n",
              " array([9.04252160e+15, 1.80850432e+16, 3.61700864e+16, 7.23401728e+16,\n",
              "        1.44680346e+17, 2.89360691e+17, 5.78721383e+17, 1.15744277e+18]))"
            ]
          },
          "metadata": {},
          "execution_count": 6
        }
      ]
    },
    {
      "cell_type": "markdown",
      "source": [
        "**[Problem 4]: Heat map of wheat counts**"
      ],
      "metadata": {
        "id": "-oDVzrF4gX29"
      }
    },
    {
      "cell_type": "code",
      "source": [
        "import numpy as np\n",
        "import matplotlib.pyplot as plt\n",
        "from matplotlib.colors import LogNorm\n",
        "\n",
        "# Calculate the wheat count for each square on the chessboard\n",
        "wheat_counts = [2**i for i in range(64)]\n",
        "\n",
        "# Reshape into an 8x8 grid\n",
        "wheat_grid = np.array(wheat_counts).reshape(8, 8)\n",
        "\n",
        "# Create a heatmap\n",
        "plt.figure(figsize=(8, 8))\n",
        "plt.imshow(wheat_grid, cmap=\"viridis\", norm=LogNorm())\n",
        "plt.colorbar(label=\"Wheat count (log scale)\")\n",
        "plt.title(\"Wheat Count Heatmap on an 8x8 Chessboard\")\n",
        "plt.xlabel(\"Columns\")\n",
        "plt.ylabel(\"Rows\")\n",
        "plt.xticks(range(8))\n",
        "plt.yticks(range(8))\n",
        "plt.show()"
      ],
      "metadata": {
        "id": "4xf3kdxWgbMW",
        "colab": {
          "base_uri": "https://localhost:8080/",
          "height": 663
        },
        "outputId": "411d3904-6ddf-419b-83ea-c5457915f4fd"
      },
      "execution_count": 3,
      "outputs": [
        {
          "output_type": "display_data",
          "data": {
            "text/plain": [
              "<Figure size 800x800 with 2 Axes>"
            ],
            "image/png": "[encoded data removed]"
          },
          "metadata": {}
        }
      ]
    },
    {
      "cell_type": "markdown",
      "source": [
        "**[Problem 5]: How many times larger is the second half than the first half?**"
      ],
      "metadata": {
        "id": "j3SXJe1hK6dX"
      }
    },
    {
      "cell_type": "code",
      "source": [
        "# Split the chessboard into two halves\n",
        "first_half = wheat_grid[:4, :]\n",
        "second_half = wheat_grid[4:, :]\n",
        "\n",
        "# Calculate the total grains in each half\n",
        "total_first_half = np.sum(first_half)\n",
        "total_second_half = np.sum(second_half)\n",
        "\n",
        "# Multiply the totals\n",
        "result = total_first_half * total_second_half\n",
        "total_first_half, total_second_half, result"
      ],
      "metadata": {
        "colab": {
          "base_uri": "https://localhost:8080/"
        },
        "id": "WezR7FFtK-u3",
        "outputId": "169a8b31-28d4-409c-d380-fd98ada8b875"
      },
      "execution_count": 4,
      "outputs": [
        {
          "output_type": "execute_result",
          "data": {
            "text/plain": [
              "(4294967295.0, 1.8446744069414584e+19, 7.922816247737085e+28)"
            ]
          },
          "metadata": {},
          "execution_count": 4
        }
      ]
    },
    {
      "cell_type": "markdown",
      "source": [
        "**[Problem 6]: Extending to n×m grids using other calculation methods**"
      ],
      "metadata": {
        "id": "WIECEcqZLng9"
      }
    },
    {
      "cell_type": "code",
      "source": [
        "import numpy as np\n",
        "\n",
        "def grains_on_chessboard(n, m):\n",
        "    # Total number of squares\n",
        "    total_squares = n * m\n",
        "\n",
        "    # Generate grain counts using broadcasting and reshaping\n",
        "    grain_counts = 2**np.arange(total_squares).reshape(n, m)\n",
        "\n",
        "    return grain_counts\n",
        "\n",
        "# Example: Generate a 4x5 chessboard and show the result\n",
        "example_board = grains_on_chessboard(4, 5)\n",
        "example_board"
      ],
      "metadata": {
        "colab": {
          "base_uri": "https://localhost:8080/"
        },
        "id": "LNYoAVXBLnUF",
        "outputId": "1a9be3f9-4a24-4f1a-99d8-95b3d7731788"
      },
      "execution_count": 6,
      "outputs": [
        {
          "output_type": "execute_result",
          "data": {
            "text/plain": [
              "array([[     1,      2,      4,      8,     16],\n",
              "       [    32,     64,    128,    256,    512],\n",
              "       [  1024,   2048,   4096,   8192,  16384],\n",
              "       [ 32768,  65536, 131072, 262144, 524288]])"
            ]
          },
          "metadata": {},
          "execution_count": 6
        }
      ]
    },
    {
      "cell_type": "markdown",
      "source": [
        "**[Problem 7] Comparison of calculation times**"
      ],
      "metadata": {
        "id": "QR4sWojDNk-z"
      }
    },
    {
      "cell_type": "code",
      "source": [
        "import numpy as np\n",
        "\n",
        "n, m = 8, 8  # Chessboard dimensions\n",
        "\n",
        "# Method 1: Explicit Calculation Loop\n",
        "%%timeit\n",
        "result = np.zeros((n, m))\n",
        "for i in range(n):\n",
        "    for j in range(m):\n",
        "        result[i, j] = 2 ** (i * m + j)\n",
        "\n",
        "# Method 2: Broadcasting with np.arange\n",
        "%%timeit\n",
        "result = 2 ** np.arange(n * m).reshape(n, m)\n",
        "\n",
        "# Method 3: Using np.append\n",
        "%%timeit\n",
        "result = np.array([])\n",
        "for i in range(n * m):\n",
        "    result = np.append(result, 2 ** i)\n",
        "result = result.reshape(n, m)"
      ],
      "metadata": {
        "colab": {
          "base_uri": "https://localhost:8080/"
        },
        "id": "ZP7x_l2FNiO3",
        "outputId": "380a896b-c1fc-4088-8309-0cb166ebc1b0"
      },
      "execution_count": 7,
      "outputs": [
        {
          "output_type": "stream",
          "name": "stderr",
          "text": [
            "UsageError: Line magic function `%%timeit` not found.\n"
          ]
        }
      ]
    }
  ]
}